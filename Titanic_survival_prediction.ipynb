{
 "cells": [
  {
   "cell_type": "code",
   "execution_count": 1,
   "metadata": {},
   "outputs": [],
   "source": [
    "from __future__ import absolute_import, division, print_function, unicode_literals\n",
    "\n",
    "import numpy as np\n",
    "import pandas as pd\n",
    "import matplotlib.pyplot as plt\n",
    "from IPython.display import clear_output  # Just for showing Output.\n",
    "from six.moves import urllib\n",
    "\n",
    "import tensorflow.compat.v2.feature_column as fc\n",
    "\n",
    "import tensorflow as tf"
   ]
  },
  {
   "cell_type": "code",
   "execution_count": 2,
   "metadata": {},
   "outputs": [
    {
     "name": "stdout",
     "output_type": "stream",
     "text": [
      "   survived     sex   age  n_siblings_spouses  parch     fare  class     deck  \\\n",
      "0         0    male  22.0                   1      0   7.2500  Third  unknown   \n",
      "1         1  female  38.0                   1      0  71.2833  First        C   \n",
      "2         1  female  26.0                   0      0   7.9250  Third  unknown   \n",
      "3         1  female  35.0                   1      0  53.1000  First        C   \n",
      "4         0    male  28.0                   0      0   8.4583  Third  unknown   \n",
      "\n",
      "   embark_town alone  \n",
      "0  Southampton     n  \n",
      "1    Cherbourg     n  \n",
      "2  Southampton     y  \n",
      "3  Southampton     n  \n",
      "4   Queenstown     y  \n"
     ]
    }
   ],
   "source": [
    "# Load dataset.\n",
    "\n",
    "#training data\n",
    "dftrain = pd.read_csv(\n",
    "    'https://storage.googleapis.com/tf-datasets/titanic/train.csv')\n",
    "\n",
    "# Testing data\n",
    "dfeval = pd.read_csv(\n",
    "    'https://storage.googleapis.com/tf-datasets/titanic/eval.csv')\n",
    "print(dftrain.head())\n",
    "y_train = dftrain.pop('survived')\n",
    "y_eval = dfeval.pop('survived')"
   ]
  },
  {
   "cell_type": "code",
   "execution_count": 7,
   "metadata": {},
   "outputs": [
    {
     "name": "stdout",
     "output_type": "stream",
     "text": [
      "[VocabularyListCategoricalColumn(key='sex', vocabulary_list=('male', 'female'), dtype=tf.string, default_value=-1, num_oov_buckets=0), VocabularyListCategoricalColumn(key='n_siblings_spouses', vocabulary_list=(1, 0, 3, 4, 2, 5, 8), dtype=tf.int64, default_value=-1, num_oov_buckets=0), VocabularyListCategoricalColumn(key='parch', vocabulary_list=(0, 1, 2, 5, 3, 4), dtype=tf.int64, default_value=-1, num_oov_buckets=0), VocabularyListCategoricalColumn(key='class', vocabulary_list=('Third', 'First', 'Second'), dtype=tf.string, default_value=-1, num_oov_buckets=0), VocabularyListCategoricalColumn(key='deck', vocabulary_list=('unknown', 'C', 'G', 'A', 'B', 'D', 'F', 'E'), dtype=tf.string, default_value=-1, num_oov_buckets=0), VocabularyListCategoricalColumn(key='embark_town', vocabulary_list=('Southampton', 'Cherbourg', 'Queenstown', 'unknown'), dtype=tf.string, default_value=-1, num_oov_buckets=0), VocabularyListCategoricalColumn(key='alone', vocabulary_list=('n', 'y'), dtype=tf.string, default_value=-1, num_oov_buckets=0), NumericColumn(key='age', shape=(1,), default_value=None, dtype=tf.float32, normalizer_fn=None), NumericColumn(key='fare', shape=(1,), default_value=None, dtype=tf.float32, normalizer_fn=None)]\n",
      "                  key                                vocabulary_list  \\\n",
      "0                 sex                                 (male, female)   \n",
      "1  n_siblings_spouses                          (1, 0, 3, 4, 2, 5, 8)   \n",
      "2               parch                             (0, 1, 2, 5, 3, 4)   \n",
      "3               class                         (Third, First, Second)   \n",
      "4                deck                 (unknown, C, G, A, B, D, F, E)   \n",
      "5         embark_town  (Southampton, Cherbourg, Queenstown, unknown)   \n",
      "6               alone                                         (n, y)   \n",
      "7                 age                                           (1,)   \n",
      "8                fare                                           (1,)   \n",
      "\n",
      "               dtype       default_value  num_oov_buckets  \n",
      "0  <dtype: 'string'>                  -1              0.0  \n",
      "1   <dtype: 'int64'>                  -1              0.0  \n",
      "2   <dtype: 'int64'>                  -1              0.0  \n",
      "3  <dtype: 'string'>                  -1              0.0  \n",
      "4  <dtype: 'string'>                  -1              0.0  \n",
      "5  <dtype: 'string'>                  -1              0.0  \n",
      "6  <dtype: 'string'>                  -1              0.0  \n",
      "7               None  <dtype: 'float32'>              NaN  \n",
      "8               None  <dtype: 'float32'>              NaN  \n"
     ]
    }
   ],
   "source": [
    "CATEGORICAL_COLUMNS = ['sex', 'n_siblings_spouses',\n",
    "                       'parch', 'class', 'deck', 'embark_town', 'alone']\n",
    "\n",
    "NUMERIC_COLUMNS = ['age', 'fare']\n",
    "\n",
    "feature_columns = []\n",
    "\n",
    "for feature_name in CATEGORICAL_COLUMNS:\n",
    "    #     gets a list of all unique values from given feature column\n",
    "    vocabulary = dftrain[feature_name].unique()\n",
    "    feature_columns.append(tf.feature_column.categorical_column_with_vocabulary_list(\n",
    "        feature_name, vocabulary))\n",
    "\n",
    "for feature_name in NUMERIC_COLUMNS:\n",
    "    feature_columns.append(tf.feature_column.numeric_column(\n",
    "        feature_name, dtype=tf.float32))\n",
    "\n",
    "s = pd.DataFrame(feature_columns)\n",
    "print(feature_columns)\n",
    "print(s)"
   ]
  },
  {
   "cell_type": "code",
   "execution_count": 8,
   "metadata": {},
   "outputs": [],
   "source": [
    "def make_input_fn(data_df , label_df , num_epochs=10, shuffle=True , batch_size=32):\n",
    "    def input_function(): #inner function, this will be returned\n",
    "        # Create tf.data.Dataset object with data and its label\n",
    "        ds = tf.data.Dataset.from_tensor_slices((dict(data_df), label_df))\n",
    "        if shuffle :\n",
    "            ds = ds.shuffle(1000) #random order of data\n",
    "        ds = ds.batch(batch_size).repeat(num_epochs)#split dataset into batches of 32 and repeat process for number of epochs\n",
    "        return ds # return a batch of dataset\n",
    "    return input_function # return a function object for use\n",
    "\n",
    "# here we will call the input function that was return to us to get a data\n",
    "train_input_fn = make_input_fn(dftrain , y_train) \n",
    "eval_input_fn = make_input_fn(dfeval , y_eval , num_epochs=1 , shuffle=False)"
   ]
  },
  {
   "cell_type": "code",
   "execution_count": 9,
   "metadata": {},
   "outputs": [
    {
     "name": "stdout",
     "output_type": "stream",
     "text": [
      "INFO:tensorflow:Using default config.\n",
      "WARNING:tensorflow:Using temporary folder as model directory: C:\\Users\\india\\AppData\\Local\\Temp\\tmp93g4b4_5\n",
      "INFO:tensorflow:Using config: {'_model_dir': 'C:\\\\Users\\\\india\\\\AppData\\\\Local\\\\Temp\\\\tmp93g4b4_5', '_tf_random_seed': None, '_save_summary_steps': 100, '_save_checkpoints_steps': None, '_save_checkpoints_secs': 600, '_session_config': allow_soft_placement: true\n",
      "graph_options {\n",
      "  rewrite_options {\n",
      "    meta_optimizer_iterations: ONE\n",
      "  }\n",
      "}\n",
      ", '_keep_checkpoint_max': 5, '_keep_checkpoint_every_n_hours': 10000, '_log_step_count_steps': 100, '_train_distribute': None, '_device_fn': None, '_protocol': None, '_eval_distribute': None, '_experimental_distribute': None, '_experimental_max_worker_delay_secs': None, '_session_creation_timeout_secs': 7200, '_checkpoint_save_graph_def': True, '_service': None, '_cluster_spec': ClusterSpec({}), '_task_type': 'worker', '_task_id': 0, '_global_id_in_cluster': 0, '_master': '', '_evaluation_master': '', '_is_chief': True, '_num_ps_replicas': 0, '_num_worker_replicas': 1}\n"
     ]
    }
   ],
   "source": [
    "# Creating Model\n",
    "linear_est = tf.estimator.LinearClassifier(feature_columns=feature_columns)\n",
    "# we create a linear estimator by passing the feature columns we created earlier."
   ]
  },
  {
   "cell_type": "code",
   "execution_count": 15,
   "metadata": {},
   "outputs": [
    {
     "name": "stdout",
     "output_type": "stream",
     "text": [
      "0.78409094\n",
      "{'accuracy': 0.78409094, 'accuracy_baseline': 0.625, 'auc': 0.83559847, 'auc_precision_recall': 0.7800277, 'average_loss': 0.4686265, 'label/mean': 0.375, 'loss': 0.45098507, 'precision': 0.71, 'prediction/mean': 0.3860807, 'recall': 0.7171717, 'global_step': 5800}\n"
     ]
    }
   ],
   "source": [
    "# Training and Testing Model\n",
    "linear_est.train(train_input_fn) #train\n",
    "result = linear_est.evaluate(eval_input_fn) # get model metrics/stats by testing on testing data\n",
    "\n",
    "clear_output() # it clears the console output\n",
    "print(result['accuracy']) # the result varaible is simply a dict of stats about our model\n",
    "print(result)"
   ]
  },
  {
   "cell_type": "code",
   "execution_count": 58,
   "metadata": {
    "scrolled": false
   },
   "outputs": [
    {
     "name": "stdout",
     "output_type": "stream",
     "text": [
      "INFO:tensorflow:Calling model_fn.\n"
     ]
    },
    {
     "name": "stderr",
     "output_type": "stream",
     "text": [
      "c:\\users\\india\\appdata\\local\\programs\\python\\python38\\lib\\site-packages\\tensorflow_estimator\\python\\estimator\\canned\\linear.py:1468: UserWarning: `layer.add_variable` is deprecated and will be removed in a future version. Please use `layer.add_weight` method instead.\n",
      "  self.bias = self.add_variable(\n"
     ]
    },
    {
     "name": "stdout",
     "output_type": "stream",
     "text": [
      "INFO:tensorflow:Done calling model_fn.\n",
      "INFO:tensorflow:Graph was finalized.\n",
      "INFO:tensorflow:Restoring parameters from C:\\Users\\india\\AppData\\Local\\Temp\\tmp93g4b4_5\\model.ckpt-5800\n",
      "INFO:tensorflow:Running local_init_op.\n",
      "INFO:tensorflow:Done running local_init_op.\n",
      "sex                          male\n",
      "age                          35.0\n",
      "n_siblings_spouses              0\n",
      "parch                           0\n",
      "fare                         8.05\n",
      "class                       Third\n",
      "deck                      unknown\n",
      "embark_town           Southampton\n",
      "alone                           y\n",
      "Name: 0, dtype: object\n",
      "0\n",
      "Chance of Survival :  0.0653768\n",
      "Chance of not Survival :  0.93462324\n"
     ]
    }
   ],
   "source": [
    "# Final result\n",
    "#predicting from model/result \n",
    "result = list(linear_est.predict(eval_input_fn))\n",
    "print(dfeval.loc[0])\n",
    "print(y_eval.loc[0])\n",
    "print(\"Chance of Survival : \",result[0]['probabilities'][1])\n",
    "print(\"Chance of not Survival : \",result[0]['probabilities'][0])\n",
    "\n"
   ]
  },
  {
   "cell_type": "code",
   "execution_count": 57,
   "metadata": {},
   "outputs": [
    {
     "data": {
      "text/plain": [
       "{'logits': array([-0.11922299], dtype=float32),\n",
       " 'logistic': array([0.4702295], dtype=float32),\n",
       " 'probabilities': array([0.5297705, 0.4702295], dtype=float32),\n",
       " 'class_ids': array([0], dtype=int64),\n",
       " 'classes': array([b'0'], dtype=object),\n",
       " 'all_class_ids': array([0, 1]),\n",
       " 'all_classes': array([b'0', b'1'], dtype=object)}"
      ]
     },
     "execution_count": 57,
     "metadata": {},
     "output_type": "execute_result"
    }
   ],
   "source": [
    "result[1]"
   ]
  },
  {
   "cell_type": "code",
   "execution_count": 37,
   "metadata": {},
   "outputs": [
    {
     "data": {
      "text/html": [
       "<div>\n",
       "<style scoped>\n",
       "    .dataframe tbody tr th:only-of-type {\n",
       "        vertical-align: middle;\n",
       "    }\n",
       "\n",
       "    .dataframe tbody tr th {\n",
       "        vertical-align: top;\n",
       "    }\n",
       "\n",
       "    .dataframe thead th {\n",
       "        text-align: right;\n",
       "    }\n",
       "</style>\n",
       "<table border=\"1\" class=\"dataframe\">\n",
       "  <thead>\n",
       "    <tr style=\"text-align: right;\">\n",
       "      <th></th>\n",
       "      <th>logits</th>\n",
       "      <th>logistic</th>\n",
       "      <th>probabilities</th>\n",
       "      <th>class_ids</th>\n",
       "      <th>classes</th>\n",
       "      <th>all_class_ids</th>\n",
       "      <th>all_classes</th>\n",
       "    </tr>\n",
       "  </thead>\n",
       "  <tbody>\n",
       "    <tr>\n",
       "      <th>0</th>\n",
       "      <td>[-2.659976]</td>\n",
       "      <td>[0.06537676]</td>\n",
       "      <td>[0.93462324, 0.0653768]</td>\n",
       "      <td>[0]</td>\n",
       "      <td>[b'0']</td>\n",
       "      <td>[0, 1]</td>\n",
       "      <td>[b'0', b'1']</td>\n",
       "    </tr>\n",
       "    <tr>\n",
       "      <th>1</th>\n",
       "      <td>[-0.11922299]</td>\n",
       "      <td>[0.4702295]</td>\n",
       "      <td>[0.5297705, 0.4702295]</td>\n",
       "      <td>[0]</td>\n",
       "      <td>[b'0']</td>\n",
       "      <td>[0, 1]</td>\n",
       "      <td>[b'0', b'1']</td>\n",
       "    </tr>\n",
       "    <tr>\n",
       "      <th>2</th>\n",
       "      <td>[0.9416019]</td>\n",
       "      <td>[0.7194231]</td>\n",
       "      <td>[0.28057688, 0.7194231]</td>\n",
       "      <td>[1]</td>\n",
       "      <td>[b'1']</td>\n",
       "      <td>[0, 1]</td>\n",
       "      <td>[b'0', b'1']</td>\n",
       "    </tr>\n",
       "    <tr>\n",
       "      <th>3</th>\n",
       "      <td>[0.30427468]</td>\n",
       "      <td>[0.57548714]</td>\n",
       "      <td>[0.4245128, 0.57548714]</td>\n",
       "      <td>[1]</td>\n",
       "      <td>[b'1']</td>\n",
       "      <td>[0, 1]</td>\n",
       "      <td>[b'0', b'1']</td>\n",
       "    </tr>\n",
       "    <tr>\n",
       "      <th>4</th>\n",
       "      <td>[-1.2752137]</td>\n",
       "      <td>[0.21836609]</td>\n",
       "      <td>[0.7816339, 0.21836606]</td>\n",
       "      <td>[0]</td>\n",
       "      <td>[b'0']</td>\n",
       "      <td>[0, 1]</td>\n",
       "      <td>[b'0', b'1']</td>\n",
       "    </tr>\n",
       "    <tr>\n",
       "      <th>...</th>\n",
       "      <td>...</td>\n",
       "      <td>...</td>\n",
       "      <td>...</td>\n",
       "      <td>...</td>\n",
       "      <td>...</td>\n",
       "      <td>...</td>\n",
       "      <td>...</td>\n",
       "    </tr>\n",
       "    <tr>\n",
       "      <th>259</th>\n",
       "      <td>[1.451186]</td>\n",
       "      <td>[0.8101809]</td>\n",
       "      <td>[0.18981913, 0.8101809]</td>\n",
       "      <td>[1]</td>\n",
       "      <td>[b'1']</td>\n",
       "      <td>[0, 1]</td>\n",
       "      <td>[b'0', b'1']</td>\n",
       "    </tr>\n",
       "    <tr>\n",
       "      <th>260</th>\n",
       "      <td>[-2.5855446]</td>\n",
       "      <td>[0.07007453]</td>\n",
       "      <td>[0.92992544, 0.07007456]</td>\n",
       "      <td>[0]</td>\n",
       "      <td>[b'0']</td>\n",
       "      <td>[0, 1]</td>\n",
       "      <td>[b'0', b'1']</td>\n",
       "    </tr>\n",
       "    <tr>\n",
       "      <th>261</th>\n",
       "      <td>[-0.9840565]</td>\n",
       "      <td>[0.27208766]</td>\n",
       "      <td>[0.72791237, 0.27208763]</td>\n",
       "      <td>[0]</td>\n",
       "      <td>[b'0']</td>\n",
       "      <td>[0, 1]</td>\n",
       "      <td>[b'0', b'1']</td>\n",
       "    </tr>\n",
       "    <tr>\n",
       "      <th>262</th>\n",
       "      <td>[-1.637038]</td>\n",
       "      <td>[0.16286853]</td>\n",
       "      <td>[0.83713144, 0.1628685]</td>\n",
       "      <td>[0]</td>\n",
       "      <td>[b'0']</td>\n",
       "      <td>[0, 1]</td>\n",
       "      <td>[b'0', b'1']</td>\n",
       "    </tr>\n",
       "    <tr>\n",
       "      <th>263</th>\n",
       "      <td>[-0.40701818]</td>\n",
       "      <td>[0.39962733]</td>\n",
       "      <td>[0.60037273, 0.39962736]</td>\n",
       "      <td>[0]</td>\n",
       "      <td>[b'0']</td>\n",
       "      <td>[0, 1]</td>\n",
       "      <td>[b'0', b'1']</td>\n",
       "    </tr>\n",
       "  </tbody>\n",
       "</table>\n",
       "<p>264 rows × 7 columns</p>\n",
       "</div>"
      ],
      "text/plain": [
       "            logits      logistic             probabilities class_ids classes  \\\n",
       "0      [-2.659976]  [0.06537676]   [0.93462324, 0.0653768]       [0]  [b'0']   \n",
       "1    [-0.11922299]   [0.4702295]    [0.5297705, 0.4702295]       [0]  [b'0']   \n",
       "2      [0.9416019]   [0.7194231]   [0.28057688, 0.7194231]       [1]  [b'1']   \n",
       "3     [0.30427468]  [0.57548714]   [0.4245128, 0.57548714]       [1]  [b'1']   \n",
       "4     [-1.2752137]  [0.21836609]   [0.7816339, 0.21836606]       [0]  [b'0']   \n",
       "..             ...           ...                       ...       ...     ...   \n",
       "259     [1.451186]   [0.8101809]   [0.18981913, 0.8101809]       [1]  [b'1']   \n",
       "260   [-2.5855446]  [0.07007453]  [0.92992544, 0.07007456]       [0]  [b'0']   \n",
       "261   [-0.9840565]  [0.27208766]  [0.72791237, 0.27208763]       [0]  [b'0']   \n",
       "262    [-1.637038]  [0.16286853]   [0.83713144, 0.1628685]       [0]  [b'0']   \n",
       "263  [-0.40701818]  [0.39962733]  [0.60037273, 0.39962736]       [0]  [b'0']   \n",
       "\n",
       "    all_class_ids   all_classes  \n",
       "0          [0, 1]  [b'0', b'1']  \n",
       "1          [0, 1]  [b'0', b'1']  \n",
       "2          [0, 1]  [b'0', b'1']  \n",
       "3          [0, 1]  [b'0', b'1']  \n",
       "4          [0, 1]  [b'0', b'1']  \n",
       "..            ...           ...  \n",
       "259        [0, 1]  [b'0', b'1']  \n",
       "260        [0, 1]  [b'0', b'1']  \n",
       "261        [0, 1]  [b'0', b'1']  \n",
       "262        [0, 1]  [b'0', b'1']  \n",
       "263        [0, 1]  [b'0', b'1']  \n",
       "\n",
       "[264 rows x 7 columns]"
      ]
     },
     "execution_count": 37,
     "metadata": {},
     "output_type": "execute_result"
    }
   ],
   "source": [
    "r = pd.DataFrame(result)\n",
    "r"
   ]
  },
  {
   "cell_type": "code",
   "execution_count": 64,
   "metadata": {},
   "outputs": [
    {
     "data": {
      "text/html": [
       "<div>\n",
       "<style scoped>\n",
       "    .dataframe tbody tr th:only-of-type {\n",
       "        vertical-align: middle;\n",
       "    }\n",
       "\n",
       "    .dataframe tbody tr th {\n",
       "        vertical-align: top;\n",
       "    }\n",
       "\n",
       "    .dataframe thead th {\n",
       "        text-align: right;\n",
       "    }\n",
       "</style>\n",
       "<table border=\"1\" class=\"dataframe\">\n",
       "  <thead>\n",
       "    <tr style=\"text-align: right;\">\n",
       "      <th></th>\n",
       "      <th>survived</th>\n",
       "      <th>not_survived</th>\n",
       "    </tr>\n",
       "  </thead>\n",
       "  <tbody>\n",
       "    <tr>\n",
       "      <th>0</th>\n",
       "      <td>0.065377</td>\n",
       "      <td>0.934623</td>\n",
       "    </tr>\n",
       "    <tr>\n",
       "      <th>1</th>\n",
       "      <td>0.470230</td>\n",
       "      <td>0.529770</td>\n",
       "    </tr>\n",
       "    <tr>\n",
       "      <th>2</th>\n",
       "      <td>0.719423</td>\n",
       "      <td>0.280577</td>\n",
       "    </tr>\n",
       "    <tr>\n",
       "      <th>3</th>\n",
       "      <td>0.575487</td>\n",
       "      <td>0.424513</td>\n",
       "    </tr>\n",
       "    <tr>\n",
       "      <th>4</th>\n",
       "      <td>0.218366</td>\n",
       "      <td>0.781634</td>\n",
       "    </tr>\n",
       "    <tr>\n",
       "      <th>...</th>\n",
       "      <td>...</td>\n",
       "      <td>...</td>\n",
       "    </tr>\n",
       "    <tr>\n",
       "      <th>259</th>\n",
       "      <td>0.810181</td>\n",
       "      <td>0.189819</td>\n",
       "    </tr>\n",
       "    <tr>\n",
       "      <th>260</th>\n",
       "      <td>0.070075</td>\n",
       "      <td>0.929925</td>\n",
       "    </tr>\n",
       "    <tr>\n",
       "      <th>261</th>\n",
       "      <td>0.272088</td>\n",
       "      <td>0.727912</td>\n",
       "    </tr>\n",
       "    <tr>\n",
       "      <th>262</th>\n",
       "      <td>0.162868</td>\n",
       "      <td>0.837131</td>\n",
       "    </tr>\n",
       "    <tr>\n",
       "      <th>263</th>\n",
       "      <td>0.399627</td>\n",
       "      <td>0.600373</td>\n",
       "    </tr>\n",
       "  </tbody>\n",
       "</table>\n",
       "<p>264 rows × 2 columns</p>\n",
       "</div>"
      ],
      "text/plain": [
       "     survived  not_survived\n",
       "0    0.065377      0.934623\n",
       "1    0.470230      0.529770\n",
       "2    0.719423      0.280577\n",
       "3    0.575487      0.424513\n",
       "4    0.218366      0.781634\n",
       "..        ...           ...\n",
       "259  0.810181      0.189819\n",
       "260  0.070075      0.929925\n",
       "261  0.272088      0.727912\n",
       "262  0.162868      0.837131\n",
       "263  0.399627      0.600373\n",
       "\n",
       "[264 rows x 2 columns]"
      ]
     },
     "execution_count": 64,
     "metadata": {},
     "output_type": "execute_result"
    }
   ],
   "source": [
    "p = r.loc[:]['probabilities']\n",
    "survived = []\n",
    "not_survived = []\n",
    "for i,j in p :\n",
    "    not_survived.append(i)\n",
    "    survived.append(j)\n",
    "data = {\n",
    "    \"survived\" : survived,\n",
    "    \"not_survived\" : not_survived\n",
    "}\n",
    "data = pd.DataFrame(data)\n",
    "data"
   ]
  },
  {
   "cell_type": "code",
   "execution_count": 66,
   "metadata": {},
   "outputs": [
    {
     "data": {
      "text/plain": [
       "<AxesSubplot:>"
      ]
     },
     "execution_count": 66,
     "metadata": {},
     "output_type": "execute_result"
    },
    {
     "data": {
      "image/png": "[encoded data removed]",
      "text/plain": [
       "<Figure size 432x288 with 1 Axes>"
      ]
     },
     "metadata": {
      "needs_background": "light"
     },
     "output_type": "display_data"
    }
   ],
   "source": [
    "data.mean().plot(kind=\"barh\")"
   ]
  },
  {
   "cell_type": "code",
   "execution_count": null,
   "metadata": {},
   "outputs": [],
   "source": []
  }
 ],
 "metadata": {
  "kernelspec": {
   "display_name": "Python 3 (ipykernel)",
   "language": "python",
   "name": "python3"
  },
  "language_info": {
   "codemirror_mode": {
    "name": "ipython",
    "version": 3
   },
   "file_extension": ".py",
   "mimetype": "text/x-python",
   "name": "python",
   "nbconvert_exporter": "python",
   "pygments_lexer": "ipython3",
   "version": "3.8.10"
  }
 },
 "nbformat": 4,
 "nbformat_minor": 2
}
