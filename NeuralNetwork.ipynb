{
 "cells": [
  {
   "cell_type": "markdown",
   "metadata": {},
   "source": [
    "# **Neural Network with TensorFlow**"
   ]
  },
  {
   "cell_type": "markdown",
   "metadata": {},
   "source": [
    "<img src=\"https://1.cms.s81c.com/sites/default/files/2021-01-06/ICLH_Diagram_Batch_01_03-DeepNeuralNetwork-WHITEBG.png\">\n",
    "\n",
    "**Input ------> F(x)(Activation function) -------> Output [0 , 1]**\n",
    "\n",
    "Neural networks reflect the behavior of the human brain, allowing computer programs to recognize patterns and solve common problems in the fields of AI, machine learning, and deep learning.\n",
    "\n",
    "Neural networks, also known as artificial neural networks (ANNs) or simulated neural networks (SNNs), are a subset of machine learning and are at the heart of deep learning algorithms. Their name and structure are inspired by the human brain, mimicking the way that biological neurons signal to one another.\n",
    "\n",
    "Que : If you have 28X28 pixel image then , how many neurons you need to make classification on this image ?\n",
    "\n",
    "Ans :Since , 28X28 = 784 <br> then , 784 neurons are needed to make classification on 28X28 pixel image.\n",
    "\n",
    "Similarly, if we 4 peices of information then ,we need 4 input neurons.\n",
    "\n",
    "\n",
    "Now, Lets talk about Hidden Layer or F(x) :\n",
    "\n",
    "Hidden layer is something which do processsing part , It takes input\n",
    "from input layer and after doing some processing it pass process data to Output layer. That output can always be less or equal to (>=)1."
   ]
  },
  {
   "cell_type": "markdown",
   "metadata": {},
   "source": [
    "Layers are connected to other layer by something called **weight** ,whether its input connection to Hidden layer , Output to Hidden layer or multiple layer connecting each other inside Hidden layer all connected to each other through *weight*.\n",
    "\n",
    "**Densely Connected Layer** or **Densely Connected Neural Network** *is essentially means that is connected to every node from the previous layer. So in this case , every single node in the input layer is connected to every single node in the output or hidden layer and these connection we called **weights** .* Just by modifying these weights we can get output from input. these weights or numbers for every single one of these lines and these are called **Trainable Parameters** that neural network will tweak an changes as we train to get the best possible result. \n",
    "\n",
    "**A densely connected neural network is one in which all the neurons in the current layer are connected to every neuron in the previous layer**"
   ]
  },
  {
   "cell_type": "markdown",
   "metadata": {},
   "source": [
    "**Biases** allows you to shift the activation function by adding a constant (i.e. the given bias) to the input. Bias in Neural Networks can be thought of as analogous to the role of a constant in a linear function, whereby the line is effectively transposed by the constant value. biases are little bit different than nodes, we normally have, there is only one bias and a bias exists in the previous layer to the layer that it affects. ti connected to each node in next layer.\n",
    "\n",
    "**Biases does not take input as parameter instead it itself is a trainable parameter. It is some constant numeric value that we are going to connect to the hidden layer.**\n",
    "\n",
    "\n",
    "**Que(❓) :Why does every neuron need it's own individual bias term?**\n",
    "\n",
    "**Bias nodes are added to increase the flexibility of the model to fit the data. Specifically, it allows the network to fit the data when all input features are equal to 0, and very likely decreases the bias of the fitted values elsewhere in the data space.**\n",
    "\n",
    "**Que(❓) :Why biases aren't connected to each other ?**\n",
    "\n",
    "**Because they are just some constant value and they're jsut something we're kind of adding into the network as another trainable parameter that we can use.This bias value is any constant value can be 1,2,100,........etc**\n",
    "\n",
    "*Biases do not connected to each other and each layer have a bias which connect to next layer i.e.., There's Only One Bias per Layer.*\n",
    "\n",
    "It will equip us with weight w₀, not tied to any input. This weight allows the model to move up and down if it's needed to fit the data. With bias, line doesn't need to cross origin (image by Author). That's the reason why we need bias neurons in neural networks.\n",
    "\n",
    "<img src=\"ss1.png\">\n",
    "\n",
    "N1 = ∑(range i = 0 to n) Wi*Xi+b(b is bias value)\n",
    "\n",
    "**In the context of measure theory**, *bias is related to a so-called true value. True values are epistemological assumptions about what a measurement “would be” if obtained by using an instrument with perfect accuracy. Needless to say, no real-world instruments have perfect accuracy, but the concept still exists.*"
   ]
  },
  {
   "cell_type": "markdown",
   "metadata": {},
   "source": [
    "Think of each individual node as its own linear regression model, composed of input data, weights, a bias (or threshold), and an output. The formula would look something like this:\n",
    "\n",
    "<img src=\"https://1.cms.s81c.com/sites/default/files/2021-01-06/ICLH_Diagram_Batch_01_05A-Equations-WHITEBG_0.png\">\n",
    "\n",
    "∑wixi + bias = w1x1 + w2x2 + w3x3 + bias\n",
    "\n",
    "<img src=\"https://1.cms.s81c.com/sites/default/files/2021-01-06/ICLH_Diagram_Batch_01_05B-Equations-WHITEBG.png\">\n",
    "\n",
    "output = f(x) = 1 if ∑w1x1 + b>= 0; 0 if ∑w1x1 + b < 0\n",
    "\n",
    "Once an input layer is determined, weights are assigned. These weights help determine the importance of any given variable, with larger ones contributing more significantly to the output compared to other inputs. All inputs are then multiplied by their respective weights and then summed. Afterward, the output is passed through an activation function, which determines the output. If that output exceeds a given threshold, it “fires” (or activates) the node, passing data to the next layer in the network. This results in the output of one node becoming in the input of the next node. This process of passing data from one layer to the next layer defines this neural network as a feedforward network."
   ]
  },
  {
   "cell_type": "markdown",
   "metadata": {},
   "source": [
    "**Elements of a Neural Network :-**<br>\n",
    "**Input Layer** :- This layer accepts input features. It provides information from the outside world to the network, no computation is performed at this layer, nodes here just pass on the information(features) to the hidden layer.<br>\n",
    "**Hidden Layer** :- Nodes of this layer are not exposed to the outer world, they are the part of the abstraction provided by any neural network. Hidden layer performs all sort of computation on the features entered through the input layer and transfer the result to the output layer.<br>\n",
    "**Output Layer** :- This layer bring up the information learned by the network to the outer world.<br>\n",
    "\n",
    "### **Activation Function**\n",
    "\n",
    "**What is an activation function and why to use them?**\n",
    "\n",
    "Definition of activation function:- *Activation function decides, whether a neuron should be activated or not by calculating weighted sum and further adding bias with it.* This means that it will decide whether the neuron's input to the network is important or not in the process of prediction using simpler mathematical operations.<br> The purpose of the activation function is to introduce non-linearity into the output of a neuron.\n",
    "\n",
    "**Explanation :-**<br>\n",
    "We know, neural network has neurons that work in correspondence of weight, bias and their respective activation function. In a neural network, we would update the weights and biases of the neurons on the basis of the error at the output. This process is known as back-propagation. Activation functions make the back-propagation possible since the gradients are supplied along with the error to update the weights and biases.\n",
    "\n",
    "**Why do we need Non-linear activation functions :-**<br>\n",
    "A neural network without an activation function is essentially just a linear regression model. The activation function does the non-linear transformation to the input making it capable to learn and perform more complex tasks."
   ]
  },
  {
   "cell_type": "markdown",
   "metadata": {},
   "source": [
    "**Mathematical proof :-**\n",
    "\n",
    "Suppose we have a Neural net like this :-\n",
    "<img src=\"https://media.geeksforgeeks.org/wp-content/cdn-uploads/neuralNet.png\">\n",
    "\n",
    "**Elements of the diagram :-<br>\n",
    "Hidden layer i.e. layer 1 :-**\n",
    "\n",
    "z(1) = W(1)X + b(1)\n",
    "a(1) = z(1)\n",
    "Here,\n",
    "\n",
    "z(1) is the vectorized output of layer 1<br>\n",
    "W(1) be the vectorized weights assigned to neurons<br>\n",
    "of hidden layer i.e. w1, w2, w3 and w4<br>\n",
    "X be the vectorized input features i.e. i1 and i2<br>\n",
    "b is the vectorized bias assigned to neurons in hidden\n",
    "layer i.e. b1 and b2<br>\n",
    "a(1) is the vectorized form of any linear function.<br>\n",
    "(Note: We are not considering activation function here)<br>"
   ]
  },
  {
   "cell_type": "markdown",
   "metadata": {},
   "source": [
    "**Layer 2 i.e. output layer :-**\n",
    "\n",
    "//  Note : Input for layer \n",
    "//   2 is output from layer 1\n",
    "z(2) = W(2)a(1) + b(2)  \n",
    "a(2) = z(2) "
   ]
  },
  {
   "cell_type": "markdown",
   "metadata": {},
   "source": [
    "**Calculation at Output layer:**\n",
    "\n",
    "// Putting value of z(1) here\n",
    "\n",
    "z(2) = (W(2) * [W(1)X + b(1)]) + b(2) \n",
    "\n",
    "z(2) = [W(2) * W(1)] * X + [W(2)*b(1) + b(2)]\n",
    "\n",
    "Let, \n",
    "    [W(2) * W(1)] = W\n",
    "    [W(2)*b(1) + b(2)] = b\n",
    "\n",
    "Final output : z(2) = W*X + b\n",
    "Which is again a linear function"
   ]
  },
  {
   "cell_type": "markdown",
   "metadata": {},
   "source": [
    "This observation results again in a linear function even after applying a hidden layer, hence we can conclude that, **doesn’t matter how many hidden layer we attach in neural net, all layers will behave same way because the composition of two linear function is a linear function itself.** Neuron can not learn with just a linear function attached to it. A non-linear activation function will let it learn as per the difference w.r.t error.\n",
    "Hence we need activation function."
   ]
  },
  {
   "cell_type": "markdown",
   "metadata": {},
   "source": [
    "### **VARIANTS OF ACTIVATION FUNCTION :-**\n",
    "\n",
    "**1). Linear Function :-**\n",
    "\n",
    "**Equation** : Linear function has the equation similar to as of a straight line i.e. y = ax<br>\n",
    "No matter how many layers we have, if all are linear in nature, the final activation function of last layer is nothing but just a linear function of the input of first layer.<br>\n",
    "**Range** : -inf to +inf<br>\n",
    "**Uses** : Linear activation function is used at just one place i.e. output layer.<br>\n",
    "**Issues** : If we will differentiate linear function to bring non-linearity, result will no more depend on input “x” and function will become constant, it won’t introduce any ground-breaking behavior to our algorithm.<br>\n",
    "**For example** : Calculation of price of a house is a regression problem. House price may have any big/small value, so we can apply linear activation at output layer. Even in this case neural net must have any non-linear function at hidden layers."
   ]
  },
  {
   "cell_type": "markdown",
   "metadata": {},
   "source": [
    "**2). Sigmoid Function :-**\n",
    "\n",
    "**It is a function which is plotted as ‘S’ shaped graph.\n",
    "<br>Equation :**<br>\n",
    "A = 1/(1 + e-x)<br> or\n",
    "<img src=\"https://images.deepai.org/django-summernote/2019-03-15/e034cca5-013c-403d-a5b4-5283fd71cff1.png\">\n",
    "<img src=\"https://www.upgrad.com/blog/wp-content/uploads/2020/02/screenshot-arxiv.org-2020.02.13-16_46_37.png\">\n",
    "\n",
    "**Nature** : Non-linear. Notice that X values lies between -2 to 2, Y values are very steep. This means, small changes in x would also bring about large changes in the value of Y.<br>\n",
    "Value Range : 0 to 1<br>\n",
    "**Uses** : Usually used in output layer of a binary classification, where result is either 0 or 1, as value for sigmoid function lies between 0 and 1 only so, result can be predicted easily to be 1 if value is greater than 0.5 and 0 otherwise.<br>\n",
    "\n",
    "**3). Tanh Function :-** *The activation that works almost always better than sigmoid function is Tanh function also knows as **Tangent Hyperbolic function or Hyperbolic Tangent Function**. It’s actually mathematically shifted version of the sigmoid function. Both are similar and can be derived from each other.*\n",
    "\n",
    "**Equation :-**\n",
    "**f(x) = tanh(x) = 2/(1 + e-2x) - 1**<br>\n",
    "<img src=\"https://miro.medium.com/max/1288/1*WNTLbBRWFiHPoXvyZ6s9eg.png\" >\n",
    "OR<br>\n",
    "**tanh(x) = 2 * sigmoid(2x) - 1** <br>\n",
    "\n",
    "<img src=\"https://miro.medium.com/max/1300/0*VHhGS4NwibecRjIa.png\">\n",
    "\n",
    "**Value Range :-** -1 to +1<br>\n",
    "**Nature :-** non-linear<br>\n",
    "**Uses :-** Usually used in hidden layers of a neural network as it’s values lies between -1 to 1 hence the mean for the hidden layer comes out be 0 or very close to it, hence helps in centering the data by bringing mean close to 0. This makes learning for the next layer much easier.<br>\n",
    "\n",
    "**4). RELU :- Stands for Rectified linear unit**. *It is the most widely used activation function. Chiefly implemented in hidden layers of Neural network.*\n",
    "\n",
    "<img src=\"https://qph.fs.quoracdn.net/main-qimg-d23ac99265ab19599e71c9d1a3cb089a\">\n",
    "\n",
    "**As you can see any value of x<=0 is make equal to 0 and for any value of x>0 graph changes and given a different positive value.This allow any negative value to be removed from data.**\n",
    "\n",
    "<img src=\"https://www.upgrad.com/blog/wp-content/uploads/2020/02/screenshot-arxiv.org-2020.02.13-16_51_50.png\">\n",
    "\n",
    "**Equation :-** A(x) = max(0,x). It gives an output x if x is positive and 0 otherwise.<br>\n",
    "**Value Range :-** [0, int]<br>\n",
    "**Nature :-** non-linear, which means we can easily backpropagate the errors and have multiple layers of neurons being activated by the ReLU function.<br>\n",
    "**Uses :-** ReLu is less computationally expensive than tanh and sigmoid because it involves simpler mathematical operations. At a time only a few neurons are activated making the network sparse making it efficient and easy for computation.\n",
    "\n",
    "*In simple words, RELU learns much faster than sigmoid and Tanh function.*"
   ]
  },
  {
   "cell_type": "markdown",
   "metadata": {},
   "source": [
    "**5). Softmax Function :-**\n",
    "*The softmax function is also a type of sigmoid function but is handy when we are trying to handle classification problems.*\n",
    "<img src=\"https://miro.medium.com/max/906/1*_IDMoFnoJT916hhUREiFAQ.png\">\n",
    "**Nature :- non-linear**<br>\n",
    "**Uses :-** Usually used when trying to handle multiple classes. The softmax function would squeeze the outputs for each class between 0 and 1 and would also divide by the sum of the outputs.<br>\n",
    "**Output:-** The softmax function is ideally used in the output layer of the classifier where we are actually trying to attain the probabilities to define the class of each input.<br>\n",
    "\n",
    "**6). Exponential Linear Units (ELUs) Function :-**\n",
    "The exponential linear units (ELUs) function is an AF that is also used to speed up the training of neural networks (just like ReLU function). The biggest advantage of the ELU function is that it can eliminate *the vanishing gradient problem* by using identity for positive values and by improving the learning characteristics of the model.\n",
    "\n",
    "ELUs have negative values that push the mean unit activation closer to zero, thereby reducing computational complexity and improving the learning speed. The ELU is an excellent alternative to the ReLU – it decreases bias shifts by pushing mean activation towards zero during the training process. \n",
    "\n",
    "Given an input x, the output f(x) is such that:\n",
    "\n",
    "f(x) = x, for x> 0\n",
    "f(x) = 𝜇(exp(x)- 1), for x ≤ 0\n",
    "\n",
    "f'(x) = 1, for x>0\n",
    "f'(x) = 𝜇(exp(x)), for x ≤ 0\n",
    "\n",
    "where 𝜇 > 0\n",
    "\n",
    "**NOTE : '𝜇' or 'aplha symbol' or 'a' any of these symbol can be used and have same meaning.**\n",
    "\n",
    "Exponential Linear Units are different from other linear units and activation functions because ELU's can take negetive inputs. Meaning, the ELU algorithm can process negetive inputs(denoted by x), into usefull and significant outputs.\n",
    "\n",
    "If x keeps reducing past zero, eventually, the output of the ELU will be capped at -1, as the limit of exp(x) as x approaches negetive infinity is 0. The value for 𝜇 is chosen to control what we want this cap to be regardless of how low the input gets. This is called the saturation point. At the saturation point, and below, there is very little difference in the output of this function(approximately 𝜇), and hence there’s little to no variation(differential) in the information delivered from this node to the other node in the forward propagation.\n",
    "\n",
    "<img src=\"https://i.stack.imgur.com/7aiVh.png\">\n",
    "\n",
    "The exponential linear unit function is represented as:\n",
    "<img src=\"https://www.upgrad.com/blog/wp-content/uploads/2020/02/screenshot-docs.google.com-2020.02.13-16_53_00-1.png\">\n",
    "\n",
    "The derivative or gradient of the ELU equation is presented as:\n",
    "\n",
    "<img src=\"https://www.upgrad.com/blog/wp-content/uploads/2020/02/screenshot-docs.google.com-2020.02.13-16_53_11.png\">\n",
    "\n",
    "Now all above functions Graph :\n",
    "- 1. <img src=\"https://analyticsindiamag.com/wp-content/uploads/2019/01/act-func.png\">\n",
    "- 2. <img src=\"https://i.ytimg.com/vi/sJKmcd8fjAE/maxresdefault.jpg\"> \n",
    "\n",
    "### CHOOSING THE RIGHT ACTIVATION FUNCTION\n",
    "\n",
    "*The basic rule of thumb is if you really don’t know what activation function to use, then simply use RELU as it is a general activation function and is used in most cases these days.\n",
    "If your output is for binary classification then, sigmoid function is very natural choice for output layer.*\n",
    "\n",
    "**Today, AFs like ReLU and ELU have gained maximum attention since they help to eliminate the vanishing gradient problem that causes major problems in the training process train and degrades the accuracy and performance of neural network models.**"
   ]
  },
  {
   "cell_type": "markdown",
   "metadata": {},
   "source": [
    "### **Loss/Cost Function**\n",
    "\n",
    "<img src=\"https://miro.medium.com/max/1280/0*H1u8AftS6-qv8tXI.gif\">\n",
    "\n",
    "\n",
    "‘Loss’ helps us to understand how much the predicted value differ from actual value<br>\n",
    "Function used to calculate the loss is called as “Loss function”\n",
    "Loss function is a method of evaluating “how well your algorithm models your dataset”. If your predictions are totally off, your loss function will output a higher number. If they’re pretty good, it’ll output a lower number. As you tune your algorithm to try and improve your model, your loss function will tell you if you’re improving or not.\n",
    "\n",
    "**“Loss functions are helpful to train a neural network”**\n",
    "\n",
    "**Is Loss function and cost function are same ?<br>\n",
    "Answer : No , cost function and loss function are synonymous and used interchangeably but they are “different”.<br>\n",
    "A loss function/error function is for a single training example/input. A cost function, on the other hand, is the average loss over the entire training dataset.**\n",
    "\n",
    "**The optimization strategies aim at “minimizing the cost function”.**\n",
    "\n",
    "\n",
    "**The terms cost and loss functions almost refer to the same meaning. But, loss function mainly applies for a single training set as compared to the cost function which deals with a penalty for a number of training sets or the complete batch. It is also sometimes called an error function.**\n",
    "\n",
    "In short, we can say that the loss function is a part of the cost function. The cost function is calculated as an average of loss functions. The loss function is a value which is calculated at every instance. \n",
    "\n",
    "So, for a single training cycle loss is calculated numerous times, but the cost function is only calculated once.\n",
    "\n",
    "---------------------------------------------"
   ]
  },
  {
   "cell_type": "markdown",
   "metadata": {},
   "source": [
    "----------------------------------------------------\n",
    "### **Gradient Descent**\n",
    "\n",
    "Gradient Descent and backpropagation are closely related. Gradient Descent is the algorithm used to find the optimal parameters (weights and biases) for our network, while **backpropagation is the process of calculating the gradient that is used in the gradient descent step.**\n",
    "\n",
    "gradient descent requires some pretty advanced calculus and linear algebra to understand so we'll stay away from that fo rnow. Lets just read the formal definition :\n",
    "\n",
    "**Gradient descent is an optimzation algorithm used to minimize soem function by iteratively moving in the direction of steepest descent as defined by the negative of hte gradient** In machine learning , we use greadient descent to update the parameter of our model.<br>\n",
    "\n",
    "A gradient is the direction we need to move to minimize the loss function.\n",
    "\n",
    "\n",
    "After Gradient Descent , we will use an algorithm called back propagation which help to change optimal parameters(i.e.., weights and biases) of neural network  by stepping backward through the network and changing weights and biases according to the gradient calculated.\n"
   ]
  },
  {
   "cell_type": "markdown",
   "metadata": {},
   "source": [
    "### What is Backpropagation?\n",
    "**Backpropagation is the essence of neural network training. It is the method of fine-tuning the weights of a neural network based on the error rate obtained in the previous epoch (i.e., iteration). Proper tuning of the weights allows you to reduce error rates and make the model reliable by increasing its generalization.**\n",
    "\n",
    "Backpropagation in neural network is a short form for “backward propagation of errors.” It is a standard method of training artificial neural networks. This method helps calculate the gradient of a loss function with respect to all the weights in the network.\n",
    "\n",
    "#### **How Backpropagation Algorithm Works ?**<br>\n",
    "**The Back propagation algorithm in neural network computes the gradient of the loss function for a single weight by the chain rule. It efficiently computes one layer at a time, unlike a native direct computation. It computes the gradient, but it does not define how the gradient is used. It generalizes the computation in the delta rule.**\n",
    "\n",
    "Consider the following Back propagation neural network example diagram to understand:\n",
    "\n",
    "<img src=\"https://www.guru99.com/images/1/030819_0937_BackPropaga1.png\">\n",
    "\n",
    "1. Inputs X, arrive through the preconnected path\n",
    "\n",
    "2. Input is modeled using real weights W. The weights are usually randomly selected.\n",
    "\n",
    "3. Calculate the output for every neuron from the input layer, to the hidden layers, to the output layer.\n",
    "\n",
    "4. Calculate the error in the outputs :\n",
    "- ErrorB= Actual Output – Desired Output\n",
    "\n",
    "5. Travel back from the output layer to the hidden layer to adjust the weights such that the error is decreased.\n",
    "\n",
    "*Keep repeating the process until the desired output is achieved*\n",
    "\n",
    "#### Why We Need Backpropagation?\n",
    "Most prominent advantages of Backpropagation are:\n",
    "\n",
    "- Backpropagation is fast, simple and easy to program\n",
    "- It has no parameters to tune apart from the numbers of input\n",
    "- It is a flexible method as it does not require prior knowledge about the network\n",
    "- It is a standard method that generally works well\n",
    "- It does not need any special mention of the features of the function to be learned.\n",
    "\n",
    "#### What is a Feed Forward Network?\n",
    "A feedforward neural network is an artificial neural network where the nodes never form a cycle. This kind of neural network has an input layer, hidden layers, and an output layer. It is the first and simplest type of artificial neural network.\n",
    "\n",
    "#### Types of Backpropagation Networks\n",
    "Two Types of Backpropagation Networks are:\n",
    "\n",
    "1. Static Back-propagation\n",
    "2. Recurrent Backpropagation\n",
    "\n",
    "1. Static back-propagation:\n",
    "It is one kind of backpropagation network which produces a mapping of a static input for static output. It is useful to solve static classification issues like optical character recognition.\n",
    "\n",
    "2. Recurrent Backpropagation:\n",
    "Recurrent Back propagation in data mining is fed forward until a fixed value is achieved. After that, the error is computed and propagated backward.\n",
    "\n",
    "The main difference between both of these methods is: that the mapping is rapid in static back-propagation while it is nonstatic in recurrent backpropagation."
   ]
  },
  {
   "cell_type": "markdown",
   "metadata": {},
   "source": [
    "### Backpropagation Key Points\n",
    "Simplifies the network structure by elements weighted links that have the least effect on the trained network<br>\n",
    "You need to study a group of input and activation values to develop the relationship between the input and hidden unit layers.\n",
    "It helps to assess the impact that a given input variable has on a network output. The knowledge gained from this analysis should be represented in rules.<br>\n",
    "Backpropagation is especially useful for deep neural networks working on error-prone projects, such as image or speech recognition.<br>\n",
    "Backpropagation takes advantage of the chain and power rules allows backpropagation to function with any number of outputs.\n",
    "\n",
    "#### Best practice Backpropagation\n",
    "*Backpropagation in neural network can be explained with the help of “Shoe Lace” analogy*\n",
    "\n",
    "1. Too little tension =\n",
    "- Not enough constraining and very loose\n",
    "2. Too much tension =\n",
    "- Too much constraint (overtraining)\n",
    "3. Taking too much time (relatively slow process)\n",
    "- Higher likelihood of breaking\n",
    "4. Pulling one lace more than other =\n",
    "- Discomfort (bias)\n",
    "\n",
    "#### Disadvantages of using Backpropagation\n",
    "- The actual performance of backpropagation on a specific problem is dependent on the input data.\n",
    "- Back propagation algorithm in data mining can be quite sensitive to noisy data\n",
    "- You need to use the matrix-based approach for backpropagation instead of mini-batch."
   ]
  },
  {
   "cell_type": "markdown",
   "metadata": {},
   "source": [
    "### **Optimizer**\n",
    "\n",
    "**A function that implements the gradient descent and backpropagation algorithms for you.**\n",
    "\n",
    "You may sometimes see the term optimization function. This is simply the function that implements the backpropagation algorithm described above. Here a list of a few common ones.\n",
    "- Gradient Descent\n",
    "- Stochastic Gradient Descent\n",
    "- Mini-Batch Gradient Descent\n",
    "- Momentum\n",
    "- Nesterov Accelerated Gradient\n",
    "\n",
    "In this , weare going to use atom optimizer."
   ]
  },
  {
   "cell_type": "markdown",
   "metadata": {},
   "source": [
    "### Creating a Neural Network \n",
    "\n",
    "Okay now you have reached the exciting part in which we train a cery basic neural network .\n",
    "\n",
    "As stated earlier this guide is based off of the following TensorFlow tutorial <a href=\"https://www.tensorflow.org/tutorials/keras/classification\">https://www.tensorflow.org/tutorials/keras/classification</a>\n",
    "\n",
    "\n",
    "### Imports"
   ]
  },
  {
   "cell_type": "code",
   "execution_count": 58,
   "metadata": {},
   "outputs": [],
   "source": [
    "# TensorFlow and tf.keras\n",
    "import tensorflow as tf\n",
    "from tensorflow import keras\n",
    "\n",
    "# Helper libraries\n",
    "import numpy as np\n",
    "import matplotlib.pyplot as plt\n",
    "import pandas as pd"
   ]
  },
  {
   "cell_type": "markdown",
   "metadata": {},
   "source": [
    "### Dataset\n",
    "\n",
    "for this tutorial we will use the MNIST Fashion Dataset. This is a dataset that is included in keras.\n",
    "\n",
    "This dataset includes 60,000 images for training and 10,000 images for validation/testing."
   ]
  },
  {
   "cell_type": "code",
   "execution_count": 59,
   "metadata": {},
   "outputs": [],
   "source": [
    "fashion_mnist = keras.datasets.fashion_mnist # load dataset\n",
    "\n",
    "#split into testing and training\n",
    "(train_images , train_labels) , (test_images , test_labels) = fashion_mnist.load_data()"
   ]
  },
  {
   "cell_type": "code",
   "execution_count": 60,
   "metadata": {},
   "outputs": [
    {
     "data": {
      "text/plain": [
       "((60000, 28, 28), numpy.ndarray)"
      ]
     },
     "execution_count": 60,
     "metadata": {},
     "output_type": "execute_result"
    }
   ],
   "source": [
    "train_images.shape , type(train_images)"
   ]
  },
  {
   "cell_type": "code",
   "execution_count": 61,
   "metadata": {},
   "outputs": [
    {
     "data": {
      "text/plain": [
       "194"
      ]
     },
     "execution_count": 61,
     "metadata": {},
     "output_type": "execute_result"
    }
   ],
   "source": [
    "train_images[0,23,23] # grayscale value of pixel"
   ]
  },
  {
   "cell_type": "code",
   "execution_count": 62,
   "metadata": {},
   "outputs": [
    {
     "data": {
      "text/plain": [
       "array([[[  0,   0,   0, ...,   0,   0,   0],\n",
       "        [  0,   0,   0, ...,   0,   0,   0],\n",
       "        [  0,   0,   0, ...,   0,   0,   0],\n",
       "        ...,\n",
       "        [  0,   0,   0, ...,   0,   0,   0],\n",
       "        [  0,   0,   0, ...,   0,   0,   0],\n",
       "        [  0,   0,   0, ...,   0,   0,   0]],\n",
       "\n",
       "       [[  0,   0,   0, ...,   0,   0,   0],\n",
       "        [  0,   0,   0, ...,   0,   0,   0],\n",
       "        [  0,   0,   0, ...,   0,   0,   0],\n",
       "        ...,\n",
       "        [  0,   0,   0, ...,   0,   0,   0],\n",
       "        [  0,   0,   0, ...,   0,   0,   0],\n",
       "        [  0,   0,   0, ...,   0,   0,   0]],\n",
       "\n",
       "       [[  0,   0,   0, ...,   0,   0,   0],\n",
       "        [  0,   0,   0, ...,   0,   0,   0],\n",
       "        [  0,   0,   0, ...,   0,   0,   0],\n",
       "        ...,\n",
       "        [  0,   0,   0, ...,   0,   0,   0],\n",
       "        [  0,   0,   0, ...,   0,   0,   0],\n",
       "        [  0,   0,   0, ...,   0,   0,   0]],\n",
       "\n",
       "       ...,\n",
       "\n",
       "       [[  0,   0,   0, ...,   0,   0,   0],\n",
       "        [  0,   0,   0, ...,   0,   0,   0],\n",
       "        [  0,   0,   0, ...,   0,   0,   0],\n",
       "        ...,\n",
       "        [  0,   0,   0, ..., 180,   0,   0],\n",
       "        [  0,   0,   0, ...,  72,   0,   0],\n",
       "        [  0,   0,   0, ...,  70,   0,   0]],\n",
       "\n",
       "       [[  0,   0,   0, ...,   0,   0,   0],\n",
       "        [  0,   0,   0, ...,   0,   0,   0],\n",
       "        [  0,   0,   0, ...,  39,   1,   0],\n",
       "        ...,\n",
       "        [  0,   0,   0, ..., 238,   0,   0],\n",
       "        [  0,   0,   0, ..., 131,   0,   0],\n",
       "        [  0,   0,   0, ...,   0,   0,   0]],\n",
       "\n",
       "       [[  0,   0,   0, ...,   0,   0,   0],\n",
       "        [  0,   0,   0, ...,   0,   0,   0],\n",
       "        [  0,   0,   0, ...,   7,   0,   0],\n",
       "        ...,\n",
       "        [  0,   0,   0, ...,   0,   9,   0],\n",
       "        [  0,   0,   0, ...,   0,   3,   0],\n",
       "        [  0,   0,   0, ...,   0,   0,   0]]], dtype=uint8)"
      ]
     },
     "execution_count": 62,
     "metadata": {},
     "output_type": "execute_result"
    }
   ],
   "source": [
    "train_images[:10]"
   ]
  },
  {
   "cell_type": "code",
   "execution_count": 63,
   "metadata": {},
   "outputs": [
    {
     "data": {
      "text/plain": [
       "array([9, 0, 0, 3, 0, 2, 7, 2, 5, 5], dtype=uint8)"
      ]
     },
     "execution_count": 63,
     "metadata": {},
     "output_type": "execute_result"
    }
   ],
   "source": [
    "\"\"\"\n",
    "our labels are integer which is labeled from 0-9 . Each integer \n",
    "represent a specific article of clothing . We'll create an array \n",
    "of label names to indicate which is which.\n",
    "\"\"\"\n",
    "train_labels[:10] # let have a look at 1st 10 traning labels"
   ]
  },
  {
   "cell_type": "code",
   "execution_count": 64,
   "metadata": {},
   "outputs": [],
   "source": [
    "class_names = ['T-shirt/top' , 'Trouser','Pullover' ,'Dress','Coat',\n",
    "              'Sandal','Shirt','Sneaker','Bag','Ankle boot']"
   ]
  },
  {
   "cell_type": "code",
   "execution_count": 65,
   "metadata": {},
   "outputs": [
    {
     "data": {
      "image/png": "[encoded data removed]",
      "text/plain": [
       "<Figure size 432x288 with 2 Axes>"
      ]
     },
     "metadata": {
      "needs_background": "light"
     },
     "output_type": "display_data"
    }
   ],
   "source": [
    "plt.figure()\n",
    "plt.imshow(train_images[1])\n",
    "plt.colorbar()\n",
    "plt.grid(False)\n",
    "plt.show()"
   ]
  },
  {
   "cell_type": "markdown",
   "metadata": {},
   "source": [
    "### Data Preprocessing\n",
    "\n",
    "The last step before creating our model is to preprocess our data. This simply means applying some transformations to our data before feeding it the model. IN this case we will simply scale all of our grayscale pixel values(0-255) to be between 0 to 1 . We can do this by dividing each value in the training and testing sets by 255.0 .We do this because smaller values will make it easier for the model to process our values."
   ]
  },
  {
   "cell_type": "code",
   "execution_count": 66,
   "metadata": {},
   "outputs": [],
   "source": [
    "# Squezing values of train and test image between 0 and 1\n",
    "train_images = train_images / 255.0\n",
    "\n",
    "test_images = test_images / 255.0"
   ]
  },
  {
   "cell_type": "code",
   "execution_count": 67,
   "metadata": {},
   "outputs": [
    {
     "data": {
      "image/png": "[encoded data removed]",
      "text/plain": [
       "<Figure size 720x720 with 25 Axes>"
      ]
     },
     "metadata": {},
     "output_type": "display_data"
    }
   ],
   "source": [
    "plt.figure(figsize=(10,10))\n",
    "for i in range(25):\n",
    "    plt.subplot(5,5,i+1)\n",
    "    plt.xticks([])\n",
    "    plt.yticks([])\n",
    "    plt.grid(False)\n",
    "    plt.imshow(train_images[i], cmap=plt.cm.binary)\n",
    "    plt.xlabel(class_names[train_labels[i]])\n",
    "plt.show()"
   ]
  },
  {
   "cell_type": "markdown",
   "metadata": {},
   "source": [
    "### Building the Model\n",
    "\n",
    "Now it's time to build the model! we are going to use a keras sequential model with three different layers. this model represents a feed-forward neural network (one that passes values from left to right). We'll break down each layer and its achitecture below :"
   ]
  },
  {
   "cell_type": "code",
   "execution_count": 68,
   "metadata": {},
   "outputs": [],
   "source": [
    "# Building Neural Network Model\n",
    "# here this Sequential means passing data from one layer to other.\n",
    "model = keras.Sequential([\n",
    "    keras.layers.Flatten(input_shape=(28,28)), # input layer (1)\n",
    "    keras.layers.Dense(128, activation='relu'), # hidden layer (2)\n",
    "    keras.layers.Dense(10, activation='softmax') # Output layer (3)\n",
    "])\n",
    "\n",
    "# the number in keras.layers.Dense (hidden layer) is always be smaller than\n",
    "# the input we given but not too small\n",
    "\n",
    "# For output layer , number 10 above is number of class in which our \n",
    "# data is distributed here.\n",
    "\n"
   ]
  },
  {
   "cell_type": "markdown",
   "metadata": {},
   "source": [
    "The first layer in this network, *tf.keras.layers.Flatten*, transforms the format of the images from a two-dimensional array (of 28 by 28 pixels) to a one-dimensional array (of 28 * 28 = 784 pixels). Think of this layer as unstacking rows of pixels in the image and lining them up. This layer has no parameters to learn; it only reformats the data.\n",
    "\n",
    "After the pixels are flattened, the network consists of a sequence of two *tf.keras.layers.Dense* layers. These are densely connected, or fully connected, neural layers. The first *Dense* layer has 128 nodes (or neurons). The second (and last) layer returns a logits array with length of 10. Each node contains a score that indicates the current image belongs to one of the 10 classes."
   ]
  },
  {
   "cell_type": "markdown",
   "metadata": {},
   "source": [
    "#### Compile the model\n",
    "Before the model is ready for training, it needs a few more settings. These are added during the model's compile step:\n",
    "\n",
    "**Loss function** —This measures how accurate the model is during training. You want to minimize this function to \"steer\" the model in the right direction.<br>\n",
    "**Optimizer** —This is how the model is updated based on the data it sees and its loss function.<br>\n",
    "**Metrics** —Used to monitor the training and testing steps. The following example uses accuracy, the fraction of the images that are correctly classified."
   ]
  },
  {
   "cell_type": "code",
   "execution_count": 69,
   "metadata": {},
   "outputs": [],
   "source": [
    "# All above mention 3 parameters is given below ,\n",
    "# these parameters are called Hyper-parameter and\n",
    "# Hyper-parameter tuning is process of changing all these parameter\n",
    "# i.e.., loss function, Optimizer and metrics and looking at how \n",
    "# model perform with different hyper parameters.\n",
    "\n",
    "model.compile(\n",
    "    optimizer='adam', # optimizer algorithm for here its some algo named 'adam'\n",
    "    loss='sparse_categorical_crossentropy', #loss function\n",
    "    metrics = ['accuracy'] # Metrics used\n",
    ")"
   ]
  },
  {
   "cell_type": "markdown",
   "metadata": {},
   "source": [
    "### **Train the model**\n",
    "**Training the neural network model requires the following steps:**\n",
    "\n",
    "1. Feed the training data to the model. In this example, the training data is in the *train_images* and *train_labels* arrays.\n",
    "2. The model learns to associate images and labels.\n",
    "3. You ask the model to make predictions about a test set—in this example, the *test_images* array.\n",
    "4. Verify that the predictions match the labels from the *test_labels* array.\n",
    "\n",
    "### **Feed the model**\n",
    "**To start training, call the *model.fit* method—so called because it \"fits\" the model to the training data:**"
   ]
  },
  {
   "cell_type": "code",
   "execution_count": 70,
   "metadata": {},
   "outputs": [
    {
     "name": "stdout",
     "output_type": "stream",
     "text": [
      "Epoch 1/10\n",
      "1875/1875 [==============================] - 6s 3ms/step - loss: 0.5012 - accuracy: 0.8260\n",
      "Epoch 2/10\n",
      "1875/1875 [==============================] - 5s 3ms/step - loss: 0.3761 - accuracy: 0.8643\n",
      "Epoch 3/10\n",
      "1875/1875 [==============================] - 6s 3ms/step - loss: 0.3382 - accuracy: 0.8767\n",
      "Epoch 4/10\n",
      "1875/1875 [==============================] - 7s 4ms/step - loss: 0.3127 - accuracy: 0.8862\n",
      "Epoch 5/10\n",
      "1875/1875 [==============================] - 5s 3ms/step - loss: 0.2956 - accuracy: 0.8921\n",
      "Epoch 6/10\n",
      "1875/1875 [==============================] - 5s 3ms/step - loss: 0.2822 - accuracy: 0.8951\n",
      "Epoch 7/10\n",
      "1875/1875 [==============================] - 5s 3ms/step - loss: 0.2706 - accuracy: 0.8992\n",
      "Epoch 8/10\n",
      "1875/1875 [==============================] - 5s 3ms/step - loss: 0.2588 - accuracy: 0.9028\n",
      "Epoch 9/10\n",
      "1875/1875 [==============================] - 5s 3ms/step - loss: 0.2481 - accuracy: 0.9081\n",
      "Epoch 10/10\n",
      "1875/1875 [==============================] - 5s 3ms/step - loss: 0.2410 - accuracy: 0.9103\n"
     ]
    },
    {
     "data": {
      "text/plain": [
       "<keras.callbacks.History at 0x28c043b7a00>"
      ]
     },
     "execution_count": 70,
     "metadata": {},
     "output_type": "execute_result"
    }
   ],
   "source": [
    "model.fit(train_images , train_labels ,epochs=10)"
   ]
  },
  {
   "cell_type": "markdown",
   "metadata": {},
   "source": [
    "As the model trains, the loss and accuracy metrics are displayed. This model reaches an accuracy of about 0.91 (or 91%) on the training data."
   ]
  },
  {
   "cell_type": "markdown",
   "metadata": {},
   "source": [
    "### Evaluate accuracy\n",
    "\n",
    "**Next, compare how the model performs on the test dataset:**"
   ]
  },
  {
   "cell_type": "code",
   "execution_count": 71,
   "metadata": {},
   "outputs": [
    {
     "name": "stdout",
     "output_type": "stream",
     "text": [
      "313/313 [==============================] - 1s 2ms/step - loss: 0.3592 - accuracy: 0.8738\n",
      "Test accuracy :  0.8737999796867371\n",
      "Test_loss :  0.35915902256965637\n"
     ]
    }
   ],
   "source": [
    "test_loss , test_acc = model.evaluate(test_images , test_labels , verbose=1)\n",
    "\n",
    "print(\"Test accuracy : \",test_acc)\n",
    "print(\"Test_loss : \",test_loss)"
   ]
  },
  {
   "cell_type": "markdown",
   "metadata": {},
   "source": [
    "It turns out that the accuracy on the test dataset is a little less than the accuracy on the training dataset. **This gap between training accuracy and test accuracy represents overfitting**. Overfitting happens when a machine learning model performs worse on new, previously unseen inputs than it does on the training data. An overfitted model \"memorizes\" the noise and details in the training dataset to a point where it negatively impacts the performance of the model on the new data. "
   ]
  },
  {
   "cell_type": "markdown",
   "metadata": {},
   "source": [
    "### Make predictions\n",
    "\n",
    "With the model trained, you can use it to make predictions about some images. Attach a softmax layer to convert the model's linear outputs—*logits*—to probabilities, which should be easier to interpret."
   ]
  },
  {
   "cell_type": "code",
   "execution_count": 88,
   "metadata": {},
   "outputs": [],
   "source": [
    "probability_model = tf.keras.Sequential([model, \n",
    "                                         tf.keras.layers.Softmax()])"
   ]
  },
  {
   "cell_type": "markdown",
   "metadata": {},
   "source": [
    "To make predictions we simply need to pass an array of data in the form we've specified in the input layer to *.predict()* method."
   ]
  },
  {
   "cell_type": "code",
   "execution_count": 89,
   "metadata": {},
   "outputs": [],
   "source": [
    "predictions = model.predict(test_images)"
   ]
  },
  {
   "cell_type": "markdown",
   "metadata": {},
   "source": [
    "This method returns to us an array of predictions fo reach image we passed it."
   ]
  },
  {
   "cell_type": "code",
   "execution_count": 92,
   "metadata": {},
   "outputs": [
    {
     "data": {
      "text/plain": [
       "array([3.13044035e-10, 3.24276295e-09, 2.85987015e-11, 1.15978060e-10,\n",
       "       1.07646655e-10, 2.40022309e-05, 8.45044756e-10, 1.64868601e-03,\n",
       "       4.57887395e-10, 9.98327315e-01], dtype=float32)"
      ]
     },
     "execution_count": 92,
     "metadata": {},
     "output_type": "execute_result"
    }
   ],
   "source": [
    "predictions[0]"
   ]
  },
  {
   "cell_type": "code",
   "execution_count": 93,
   "metadata": {},
   "outputs": [
    {
     "data": {
      "text/plain": [
       "(9, 9)"
      ]
     },
     "execution_count": 93,
     "metadata": {},
     "output_type": "execute_result"
    }
   ],
   "source": [
    "np.argmax(predictions[0]), test_labels[0]"
   ]
  },
  {
   "cell_type": "code",
   "execution_count": 94,
   "metadata": {},
   "outputs": [
    {
     "name": "stdout",
     "output_type": "stream",
     "text": [
      "Ankle boot with probability of 99.83273148536682\n",
      "Pullover with probability of 99.9094009399414\n",
      "Trouser with probability of 99.99985694885254\n",
      "Trouser with probability of 99.99996423721313\n",
      "Shirt with probability of 91.08182787895203\n",
      "Trouser with probability of 99.94093179702759\n",
      "Coat with probability of 99.42512512207031\n",
      "Shirt with probability of 99.05062317848206\n",
      "Sandal with probability of 99.9786913394928\n",
      "Sneaker with probability of 99.98754262924194\n"
     ]
    }
   ],
   "source": [
    "# prediction on rows for max probability\n",
    "for i in range(0,10):\n",
    "    index_max_prob = np.argmax(predictions[i])\n",
    "    predict = predictions[i][index_max_prob]\n",
    "    print(class_names[index_max_prob],\"with probability of\",predict*100)"
   ]
  },
  {
   "cell_type": "markdown",
   "metadata": {},
   "source": [
    "Graph this to look at the full set of 10 class predictions"
   ]
  },
  {
   "cell_type": "code",
   "execution_count": 96,
   "metadata": {},
   "outputs": [],
   "source": [
    "def plot_image(i, predictions_array, true_label, img):\n",
    "    true_label, img = true_label[i], img[i]\n",
    "    plt.grid(False)\n",
    "    plt.xticks([])\n",
    "    plt.yticks([])\n",
    "\n",
    "    plt.imshow(img, cmap=plt.cm.binary)\n",
    "\n",
    "    predicted_label = np.argmax(predictions_array)\n",
    "    if predicted_label == true_label:\n",
    "        color = 'blue'\n",
    "    else:\n",
    "        color = 'red'\n",
    "\n",
    "    plt.xlabel(\"{} {:2.0f}% ({})\".format(class_names[predicted_label],\n",
    "                                100*np.max(predictions_array),\n",
    "                                class_names[true_label]),\n",
    "                                color=color)\n",
    "\n",
    "def plot_value_array(i, predictions_array, true_label):\n",
    "    true_label = true_label[i]\n",
    "    plt.grid(False)\n",
    "    plt.xticks(range(10))\n",
    "    plt.yticks([])\n",
    "    thisplot = plt.bar(range(10), predictions_array, color=\"#777777\")\n",
    "    plt.ylim([0, 1])\n",
    "    predicted_label = np.argmax(predictions_array)\n",
    "\n",
    "    thisplot[predicted_label].set_color('red')\n",
    "    thisplot[true_label].set_color('blue')"
   ]
  },
  {
   "cell_type": "code",
   "execution_count": 97,
   "metadata": {},
   "outputs": [
    {
     "data": {
      "image/png": "[encoded data removed]",
      "text/plain": [
       "<Figure size 432x216 with 2 Axes>"
      ]
     },
     "metadata": {
      "needs_background": "light"
     },
     "output_type": "display_data"
    }
   ],
   "source": [
    "i = 0\n",
    "plt.figure(figsize=(6,3))\n",
    "plt.subplot(1,2,1)\n",
    "plot_image(i, predictions[i], test_labels, test_images)\n",
    "plt.subplot(1,2,2)\n",
    "plot_value_array(i, predictions[i],  test_labels)\n",
    "plt.show()"
   ]
  },
  {
   "cell_type": "code",
   "execution_count": 98,
   "metadata": {},
   "outputs": [
    {
     "data": {
      "image/png": "[encoded data removed]",
      "text/plain": [
       "<Figure size 432x216 with 2 Axes>"
      ]
     },
     "metadata": {
      "needs_background": "light"
     },
     "output_type": "display_data"
    }
   ],
   "source": [
    "i = 12\n",
    "plt.figure(figsize=(6,3))\n",
    "plt.subplot(1,2,1)\n",
    "plot_image(i, predictions[i], test_labels, test_images)\n",
    "plt.subplot(1,2,2)\n",
    "plot_value_array(i, predictions[i],  test_labels)\n",
    "plt.show()"
   ]
  },
  {
   "cell_type": "code",
   "execution_count": 99,
   "metadata": {},
   "outputs": [
    {
     "data": {
      "image/png": "[encoded data removed]",
      "text/plain": [
       "<Figure size 864x720 with 30 Axes>"
      ]
     },
     "metadata": {
      "needs_background": "light"
     },
     "output_type": "display_data"
    }
   ],
   "source": [
    "# Plot the first X test images, their predicted labels, and the true labels.\n",
    "# Color correct predictions in blue and incorrect predictions in red.\n",
    "num_rows = 5\n",
    "num_cols = 3\n",
    "num_images = num_rows*num_cols\n",
    "plt.figure(figsize=(2*2*num_cols, 2*num_rows))\n",
    "for i in range(num_images):\n",
    "    plt.subplot(num_rows, 2*num_cols, 2*i+1)\n",
    "    plot_image(i, predictions[i], test_labels, test_images)\n",
    "    plt.subplot(num_rows, 2*num_cols, 2*i+2)\n",
    "    plot_value_array(i, predictions[i], test_labels)\n",
    "plt.tight_layout()\n",
    "plt.show()"
   ]
  },
  {
   "cell_type": "code",
   "execution_count": 106,
   "metadata": {},
   "outputs": [
    {
     "name": "stdout",
     "output_type": "stream",
     "text": [
      "Pick a number : 10\n"
     ]
    },
    {
     "data": {
      "image/png": "[encoded data removed]",
      "text/plain": [
       "<Figure size 432x288 with 2 Axes>"
      ]
     },
     "metadata": {
      "needs_background": "light"
     },
     "output_type": "display_data"
    }
   ],
   "source": [
    "COLOR = 'white'\n",
    "plt.rcParams['text.color'] = COLOR\n",
    "plt.rcParams['axes.labelcolor'] = COLOR\n",
    "\n",
    "def predict(model , image , correct_label):\n",
    "    class_names = ['T-shirt/top' , 'Trouser','Pullover' ,'Dress','Coat',\n",
    "              'Sandal','Shirt','Sneaker','Bag','Ankle boot']\n",
    "    prediction = model.predict(np.array([image]))\n",
    "    predicted_class = class_names[np.argmax(prediction)]\n",
    "    \n",
    "    show_image(image , class_names[correct_label] , predicted_class)\n",
    "    \n",
    "\n",
    "def show_image(img , label , guess):\n",
    "    plt.figure()\n",
    "    plt.imshow(img, cmap=plt.cm.binary)\n",
    "    title = \"Expected : \"+label\n",
    "    xlabel = \"Guess : \"+guess\n",
    "    plt.title(title)\n",
    "    plt.xlabel(xlabel)\n",
    "    plt.colorbar()\n",
    "    plt.show()\n",
    "\n",
    "def get_number():\n",
    "    while True:\n",
    "        num = input(\"Pick a number : \")\n",
    "        if num.isdigit():\n",
    "            num = int(num)\n",
    "            if 0 <= num <= 1000:\n",
    "                return int(num)\n",
    "        else:\n",
    "            print(\"Try again ...\")\n",
    "\n",
    "num = get_number()\n",
    "image =test_images[num]\n",
    "label = test_labels[num]\n",
    "\n",
    "predict(model , image , label)\n",
    "            \n",
    "    "
   ]
  },
  {
   "cell_type": "code",
   "execution_count": null,
   "metadata": {},
   "outputs": [],
   "source": []
  },
  {
   "cell_type": "code",
   "execution_count": null,
   "metadata": {},
   "outputs": [],
   "source": []
  },
  {
   "cell_type": "code",
   "execution_count": null,
   "metadata": {},
   "outputs": [],
   "source": []
  },
  {
   "cell_type": "code",
   "execution_count": null,
   "metadata": {},
   "outputs": [],
   "source": []
  },
  {
   "cell_type": "code",
   "execution_count": null,
   "metadata": {},
   "outputs": [],
   "source": []
  },
  {
   "cell_type": "code",
   "execution_count": null,
   "metadata": {},
   "outputs": [],
   "source": []
  },
  {
   "cell_type": "code",
   "execution_count": null,
   "metadata": {},
   "outputs": [],
   "source": []
  },
  {
   "cell_type": "code",
   "execution_count": null,
   "metadata": {},
   "outputs": [],
   "source": []
  },
  {
   "cell_type": "code",
   "execution_count": null,
   "metadata": {},
   "outputs": [],
   "source": []
  }
 ],
 "metadata": {
  "kernelspec": {
   "display_name": "Python 3 (ipykernel)",
   "language": "python",
   "name": "python3"
  },
  "language_info": {
   "codemirror_mode": {
    "name": "ipython",
    "version": 3
   },
   "file_extension": ".py",
   "mimetype": "text/x-python",
   "name": "python",
   "nbconvert_exporter": "python",
   "pygments_lexer": "ipython3",
   "version": "3.8.10"
  }
 },
 "nbformat": 4,
 "nbformat_minor": 2
}
